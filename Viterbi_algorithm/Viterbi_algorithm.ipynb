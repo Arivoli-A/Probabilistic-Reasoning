{
 "cells": [
  {
   "cell_type": "markdown",
   "metadata": {},
   "source": [
    "# Viterbi algorithmn"
   ]
  },
  {
   "cell_type": "markdown",
   "metadata": {},
   "source": [
    "We will decode an English sentence from a long sequence of non-text observations. To do so, we will implement the Viterbi algorithmn.\n",
    "\n",
    "Consider a discrete HMM with n = 27 hidden states $S_t \\in \\{1, 2, . . . , 27\\}$ and binary observations $O_t \\in \\{0, 1\\}$.\n",
    "Download the ASCII data files. These files contain parameter\n",
    "values for the initial state distribution $π_i = P(S_1 = i)$, the transition matrix $a_{ij} = P (S_{t+1} = j|S_t = i)$, and\n",
    "the emission matrix $b_{ik} = P (O_t = k|S_t = i)$, as well as a long bit sequence of T = 430000 observations.\n",
    "\n",
    "We will use the Viterbi algorithm to compute the most probable sequence of hidden states conditioned on this particular sequence of observation"
   ]
  },
  {
   "cell_type": "markdown",
   "metadata": {},
   "source": [
    "Viterbi algorithmn find the most probable state $\\{s_1^*,s_2^*,s_3^*,\\ldots\\}$ by maximizing the log likelihood\n",
    "$$\\{s_1^*,s_2^*,s_3^*,\\ldots\\} = \\argmax_{s_1,s_2,s_3, \\ldots} \\log P(s_1,s_2,\\ldots|o_1,o_2,\\ldots) = \\argmax_{s_1,s_2,s_3, \\ldots} \\log P(s_1,s_2,\\ldots,s_T,o_1,o_2,\\ldots,o_T)$$\n",
    "We can define the following matrix : log probability of the most likely $s_1,s_2,\\ldots,s_{t-1}$ that ends up in $s_t = i$ and explains the observations $o_1,o_2,\\ldots,o_t$. \n",
    "$$\\delta_{t}(i) = \\max_{s_1,s_2,s_3, \\ldots}\\log P(s_1,s_2,\\ldots,s_{t-1},s_t = i,o_1,o_2,\\ldots,o_t)$$\n",
    "\n",
    "$$\n",
    "\\delta =\n",
    "\\begin{bmatrix}\n",
    "\\delta_1(1) & \\delta_2(1) & \\cdots & \\delta_T(1) \\\\\n",
    "\\delta_1(2) & \\delta_2(2) & \\cdots & \\delta_T(2) \\\\\n",
    "\\vdots      & \\vdots      & \\ddots & \\vdots      \\\\\n",
    "\\delta_1(N) & \\delta_2(N) & \\cdots & \\delta_T(N)\n",
    "\\end{bmatrix}\n",
    "$$\n",
    "\n",
    "Across rows : Number of states \n",
    "\n",
    "Across columns : Number of steps\n",
    "\n",
    "The first column (in the first time step) can be found directly\n",
    "\n",
    "$$\n",
    "\\delta_1(j) = \\log \\pi_j + \\log b_j(x_1), \\quad \\psi_1(j) = 0 \\quad \\text{for } j = 1, \\dots, N\n",
    "$$\n",
    "\n",
    "for $t>1$, we can find recursive relation between $\\delta_t \\ \\text{and} \\ \\delta_{t-1}$. We also define a tracking matrix $\\psi_t(j)$ to track the state \n",
    "$$\n",
    "\\delta_t(j) = \\max_{i = 1,\\dots,N} \\left[ \\delta_{t-1}(i) + \\log a_{ij} \\right] + \\log b_j(x_t)\n",
    "$$\n",
    "$$\n",
    "\\psi_t(j) = \\arg\\max_{i = 1,\\dots,N} \\left[ \\delta_{t-1}(i) + \\log a_{ij} \\right]\n",
    "\\quad \\text{for } t = 2,\\dots,T\n",
    "$$\n",
    "\n",
    "After reaching $t = T$, we backtrack from the maximum $\\delta_T$ using $\\psi_t(j)$ matrix\n",
    "\n",
    "$$\n",
    "\\delta^* = \\max_{j = 1,\\dots,N} \\delta_T(j), \\quad \n",
    "s_T^* = \\arg\\max_{j = 1,\\dots,N} \\delta_T(j)\n",
    "$$\n",
    "\n",
    "**Backtracking:**\n",
    "\n",
    "$$\n",
    "s_t^* = \\psi_{t+1}(s_{t+1}^*) \\quad \\text{for } t = T-1, T-2, \\dots, 1\n",
    "$$\n"
   ]
  },
  {
   "cell_type": "code",
   "execution_count": 293,
   "metadata": {},
   "outputs": [],
   "source": [
    "import warnings\n",
    "warnings.filterwarnings('ignore')\n",
    "import pandas as pd\n",
    "import string\n",
    "import numpy as np\n",
    "import csv\n",
    "import matplotlib.pyplot as plt"
   ]
  },
  {
   "cell_type": "code",
   "execution_count": 294,
   "metadata": {},
   "outputs": [],
   "source": [
    "emission=np.loadtxt('emissionMatrix.txt',delimiter='\\t')\n",
    "ini_dist=np.loadtxt('initialStateDistribution.txt',delimiter=' ')\n",
    "transition=pd.read_csv('transitionMatrix.txt',sep=' ',header=None)\n",
    "obs=pd.read_csv('observations.txt',sep=' ',header=None)"
   ]
  },
  {
   "cell_type": "code",
   "execution_count": 295,
   "metadata": {},
   "outputs": [],
   "source": [
    "transition=transition.iloc[:,:-1].values\n",
    "obs = np.transpose(obs.iloc[:,:-1].values.flatten())"
   ]
  },
  {
   "cell_type": "code",
   "execution_count": 296,
   "metadata": {},
   "outputs": [],
   "source": [
    "def Viterbi(o,pi_ini,a,b):\n",
    "    \n",
    "    # Deriving the l* matrix\n",
    "\n",
    "    l=np.zeros((pi_ini.shape[0],o.shape[0]))                 # l* matrix: nxT\n",
    "    track=np.zeros((pi_ini.shape[0],o.shape[0])).astype(int)  # tracking matrix: nxT\n",
    "    state =np.zeros(o.shape).astype(int)                     # Hidden states: Tx1\n",
    "    \n",
    "    l[:,0] = np.log(pi_ini*b[:,o[0]])                       # Initial likelihood\n",
    "    log_a=np.log(a)                                         # nxn\n",
    "\n",
    "    # Forward pass\n",
    "    \n",
    "    for i in range(1,o.shape[0],1):\n",
    "\n",
    "        val = l[:,i-1][np.newaxis].T+log_a    # A new axis is necessary to make it a column vector for adding to each column of matrix (broadcasting). A transpose is taken. If this is not done, it adds to each row\n",
    "        maximum = np.max(val,axis=0)\n",
    "        track[:,i] = np.argmax(val,axis=0)\n",
    "        l[:,i] = maximum+np.log(b[:,o[i]])\n",
    "\n",
    "    track = track.astype(int)\n",
    "    \n",
    "    state[o.shape[0]-1]=np.argmax(l[:,o.shape[0]-1]).astype(int)      #Finding best likelihood value after going through T observations\n",
    "\n",
    "    # Backtracking \n",
    "    \n",
    "    for j in range(o.shape[0]-2,-1,-1):\n",
    "\n",
    "        state[j]=track[state[j+1],j+1]\n",
    "\n",
    "    # Converting to letters\n",
    "    \n",
    "    word=[chr(ord('a')+num) if num<26 else ' ' for num in state]\n",
    "\n",
    "    index=9000*np.linspace(0,47,48).astype(int)\n",
    "    string = ''.join([word[i] for i in index])\n",
    "    print(string)\n",
    "\n",
    "    plt.plot(range(o.shape[0]),state+1)\n",
    "    plt.xlabel('Time')\n",
    "    plt.ylabel('State')"
   ]
  },
  {
   "cell_type": "code",
   "execution_count": 297,
   "metadata": {
    "scrolled": true
   },
   "outputs": [
    {
     "name": "stdout",
     "output_type": "stream",
     "text": [
      "aa house ddivided agaainst itseelf cannnot stand\n"
     ]
    },
    {
     "data": {
      "image/png": "[encoded data removed]",
      "text/plain": [
       "<Figure size 432x288 with 1 Axes>"
      ]
     },
     "metadata": {
      "needs_background": "light"
     },
     "output_type": "display_data"
    }
   ],
   "source": [
    "Viterbi(obs,ini_dist,transition,emission)"
   ]
  }
 ],
 "metadata": {
  "kernelspec": {
   "display_name": "Python 3",
   "language": "python",
   "name": "python3"
  },
  "language_info": {
   "codemirror_mode": {
    "name": "ipython",
    "version": 3
   },
   "file_extension": ".py",
   "mimetype": "text/x-python",
   "name": "python",
   "nbconvert_exporter": "python",
   "pygments_lexer": "ipython3",
   "version": "3.6.8"
  }
 },
 "nbformat": 4,
 "nbformat_minor": 4
}
