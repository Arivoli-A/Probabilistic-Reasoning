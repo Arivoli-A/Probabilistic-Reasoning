{
 "cells": [
  {
   "cell_type": "markdown",
   "metadata": {},
   "source": [
    "# Statistical language modeling\n",
    "In this experiment, we look into the unigram and bigram model - its performance and disadvantages."
   ]
  },
  {
   "cell_type": "markdown",
   "metadata": {},
   "source": [
    "The file hw4_vocab.txt contains a list of 500 tokens, corresponding to words, punctuation symbols, and other textual markers.\n",
    "\n",
    "The file hw4_unigram.txt contains the counts of each of these tokens in a large text corpus of Wall Street Journal articles.  The corpus consisted of roughly 3 million sentences.\n",
    "\n",
    "The file hw4_bigram.txt contains the counts of pairs of adjacent words in this same corpus.  Let count(w1,w2) denote the number of times that word w1 is followed by word w2.  The counts are stored in a simple three column format: \n",
    "\n",
    "  index(w1)  index(w2)  count(w1,w2)"
   ]
  },
  {
   "cell_type": "code",
   "execution_count": 181,
   "metadata": {},
   "outputs": [],
   "source": [
    "import warnings\n",
    "warnings.filterwarnings('ignore')\n",
    "import pandas as pd\n",
    "import string\n",
    "import numpy as np\n",
    "import csv\n",
    "import matplotlib.pyplot as plt"
   ]
  },
  {
   "cell_type": "code",
   "execution_count": 182,
   "metadata": {},
   "outputs": [],
   "source": [
    "df_word=pd.read_csv('hw4_vocab.txt',sep =' ',names =['Word'],quoting=csv.QUOTE_NONE)\n",
    "df_uni=pd.read_csv('hw4_unigram.txt',sep =' ',names =['Count'])\n",
    "df_bi=pd.read_csv('hw4_bigram.txt',sep ='\\t',names =['Index 1', 'Index 2','Count'])"
   ]
  },
  {
   "cell_type": "code",
   "execution_count": 183,
   "metadata": {},
   "outputs": [],
   "source": [
    "df_uni = pd.concat([df_word,df_uni],axis=1)"
   ]
  },
  {
   "cell_type": "code",
   "execution_count": 184,
   "metadata": {},
   "outputs": [],
   "source": [
    "df_bi[['Index 1', 'Index 2']] -= 1 # Python index start from 0\n",
    "df_bi['Word 1'] = df_word['Word'][df_bi['Index 1']].values\n",
    "df_bi['Word 2'] = df_word['Word'][df_bi['Index 2']].values\n",
    "df_bi=df_bi[['Index 1','Index 2','Word 1','Word 2','Count']]"
   ]
  },
  {
   "cell_type": "markdown",
   "metadata": {},
   "source": [
    "## Maximum likelihood estimate of the unigram distribution $P_u(w)$ over words $w$."
   ]
  },
  {
   "cell_type": "code",
   "execution_count": 185,
   "metadata": {},
   "outputs": [
    {
     "data": {
      "text/html": [
       "<div>\n",
       "<style scoped>\n",
       "    .dataframe tbody tr th:only-of-type {\n",
       "        vertical-align: middle;\n",
       "    }\n",
       "\n",
       "    .dataframe tbody tr th {\n",
       "        vertical-align: top;\n",
       "    }\n",
       "\n",
       "    .dataframe thead th {\n",
       "        text-align: right;\n",
       "    }\n",
       "</style>\n",
       "<table border=\"1\" class=\"dataframe\">\n",
       "  <thead>\n",
       "    <tr style=\"text-align: right;\">\n",
       "      <th></th>\n",
       "      <th>Word</th>\n",
       "      <th>Count</th>\n",
       "      <th>prob</th>\n",
       "    </tr>\n",
       "  </thead>\n",
       "  <tbody>\n",
       "    <tr>\n",
       "      <th>53</th>\n",
       "      <td>MILLION</td>\n",
       "      <td>169479</td>\n",
       "      <td>0.002073</td>\n",
       "    </tr>\n",
       "    <tr>\n",
       "      <th>68</th>\n",
       "      <td>MORE</td>\n",
       "      <td>139728</td>\n",
       "      <td>0.001709</td>\n",
       "    </tr>\n",
       "    <tr>\n",
       "      <th>76</th>\n",
       "      <td>MR.</td>\n",
       "      <td>117873</td>\n",
       "      <td>0.001442</td>\n",
       "    </tr>\n",
       "    <tr>\n",
       "      <th>120</th>\n",
       "      <td>MOST</td>\n",
       "      <td>64424</td>\n",
       "      <td>0.000788</td>\n",
       "    </tr>\n",
       "    <tr>\n",
       "      <th>121</th>\n",
       "      <td>MARKET</td>\n",
       "      <td>63807</td>\n",
       "      <td>0.000780</td>\n",
       "    </tr>\n",
       "    <tr>\n",
       "      <th>125</th>\n",
       "      <td>MAY</td>\n",
       "      <td>59680</td>\n",
       "      <td>0.000730</td>\n",
       "    </tr>\n",
       "    <tr>\n",
       "      <th>129</th>\n",
       "      <td>M.</td>\n",
       "      <td>57514</td>\n",
       "      <td>0.000703</td>\n",
       "    </tr>\n",
       "    <tr>\n",
       "      <th>130</th>\n",
       "      <td>MANY</td>\n",
       "      <td>56968</td>\n",
       "      <td>0.000697</td>\n",
       "    </tr>\n",
       "    <tr>\n",
       "      <th>158</th>\n",
       "      <td>MADE</td>\n",
       "      <td>45777</td>\n",
       "      <td>0.000560</td>\n",
       "    </tr>\n",
       "    <tr>\n",
       "      <th>177</th>\n",
       "      <td>MUCH</td>\n",
       "      <td>42076</td>\n",
       "      <td>0.000515</td>\n",
       "    </tr>\n",
       "    <tr>\n",
       "      <th>179</th>\n",
       "      <td>MAKE</td>\n",
       "      <td>42065</td>\n",
       "      <td>0.000514</td>\n",
       "    </tr>\n",
       "    <tr>\n",
       "      <th>202</th>\n",
       "      <td>MONTH</td>\n",
       "      <td>36378</td>\n",
       "      <td>0.000445</td>\n",
       "    </tr>\n",
       "    <tr>\n",
       "      <th>208</th>\n",
       "      <td>MONEY</td>\n",
       "      <td>35740</td>\n",
       "      <td>0.000437</td>\n",
       "    </tr>\n",
       "    <tr>\n",
       "      <th>226</th>\n",
       "      <td>MONTHS</td>\n",
       "      <td>33177</td>\n",
       "      <td>0.000406</td>\n",
       "    </tr>\n",
       "    <tr>\n",
       "      <th>229</th>\n",
       "      <td>MY</td>\n",
       "      <td>32732</td>\n",
       "      <td>0.000400</td>\n",
       "    </tr>\n",
       "    <tr>\n",
       "      <th>246</th>\n",
       "      <td>MONDAY</td>\n",
       "      <td>31233</td>\n",
       "      <td>0.000382</td>\n",
       "    </tr>\n",
       "    <tr>\n",
       "      <th>255</th>\n",
       "      <td>MAJOR</td>\n",
       "      <td>30326</td>\n",
       "      <td>0.000371</td>\n",
       "    </tr>\n",
       "    <tr>\n",
       "      <th>274</th>\n",
       "      <td>MILITARY</td>\n",
       "      <td>28785</td>\n",
       "      <td>0.000352</td>\n",
       "    </tr>\n",
       "    <tr>\n",
       "      <th>286</th>\n",
       "      <td>MEMBERS</td>\n",
       "      <td>27478</td>\n",
       "      <td>0.000336</td>\n",
       "    </tr>\n",
       "    <tr>\n",
       "      <th>355</th>\n",
       "      <td>MIGHT</td>\n",
       "      <td>22370</td>\n",
       "      <td>0.000274</td>\n",
       "    </tr>\n",
       "    <tr>\n",
       "      <th>365</th>\n",
       "      <td>MEETING</td>\n",
       "      <td>21728</td>\n",
       "      <td>0.000266</td>\n",
       "    </tr>\n",
       "    <tr>\n",
       "      <th>369</th>\n",
       "      <td>MUST</td>\n",
       "      <td>21791</td>\n",
       "      <td>0.000267</td>\n",
       "    </tr>\n",
       "    <tr>\n",
       "      <th>373</th>\n",
       "      <td>ME</td>\n",
       "      <td>21551</td>\n",
       "      <td>0.000264</td>\n",
       "    </tr>\n",
       "    <tr>\n",
       "      <th>374</th>\n",
       "      <td>MARCH</td>\n",
       "      <td>21242</td>\n",
       "      <td>0.000260</td>\n",
       "    </tr>\n",
       "    <tr>\n",
       "      <th>384</th>\n",
       "      <td>MAN</td>\n",
       "      <td>20677</td>\n",
       "      <td>0.000253</td>\n",
       "    </tr>\n",
       "    <tr>\n",
       "      <th>402</th>\n",
       "      <td>MS.</td>\n",
       "      <td>19541</td>\n",
       "      <td>0.000239</td>\n",
       "    </tr>\n",
       "    <tr>\n",
       "      <th>403</th>\n",
       "      <td>MINISTER</td>\n",
       "      <td>19605</td>\n",
       "      <td>0.000240</td>\n",
       "    </tr>\n",
       "    <tr>\n",
       "      <th>459</th>\n",
       "      <td>MAKING</td>\n",
       "      <td>17310</td>\n",
       "      <td>0.000212</td>\n",
       "    </tr>\n",
       "    <tr>\n",
       "      <th>472</th>\n",
       "      <td>MOVE</td>\n",
       "      <td>17167</td>\n",
       "      <td>0.000210</td>\n",
       "    </tr>\n",
       "    <tr>\n",
       "      <th>478</th>\n",
       "      <td>MILES</td>\n",
       "      <td>16841</td>\n",
       "      <td>0.000206</td>\n",
       "    </tr>\n",
       "  </tbody>\n",
       "</table>\n",
       "</div>"
      ],
      "text/plain": [
       "         Word   Count      prob\n",
       "53    MILLION  169479  0.002073\n",
       "68       MORE  139728  0.001709\n",
       "76        MR.  117873  0.001442\n",
       "120      MOST   64424  0.000788\n",
       "121    MARKET   63807  0.000780\n",
       "125       MAY   59680  0.000730\n",
       "129        M.   57514  0.000703\n",
       "130      MANY   56968  0.000697\n",
       "158      MADE   45777  0.000560\n",
       "177      MUCH   42076  0.000515\n",
       "179      MAKE   42065  0.000514\n",
       "202     MONTH   36378  0.000445\n",
       "208     MONEY   35740  0.000437\n",
       "226    MONTHS   33177  0.000406\n",
       "229        MY   32732  0.000400\n",
       "246    MONDAY   31233  0.000382\n",
       "255     MAJOR   30326  0.000371\n",
       "274  MILITARY   28785  0.000352\n",
       "286   MEMBERS   27478  0.000336\n",
       "355     MIGHT   22370  0.000274\n",
       "365   MEETING   21728  0.000266\n",
       "369      MUST   21791  0.000267\n",
       "373        ME   21551  0.000264\n",
       "374     MARCH   21242  0.000260\n",
       "384       MAN   20677  0.000253\n",
       "402       MS.   19541  0.000239\n",
       "403  MINISTER   19605  0.000240\n",
       "459    MAKING   17310  0.000212\n",
       "472      MOVE   17167  0.000210\n",
       "478     MILES   16841  0.000206"
      ]
     },
     "execution_count": 185,
     "metadata": {},
     "output_type": "execute_result"
    }
   ],
   "source": [
    "total_sum = df_uni['Count'].sum()\n",
    "df_uni['prob']=df_uni['Count']/total_sum\n",
    "df_uni[df_uni['Word'].str.startswith('M')]"
   ]
  },
  {
   "cell_type": "markdown",
   "metadata": {},
   "source": [
    "## Ten most likely words to follow the word 'THE'"
   ]
  },
  {
   "cell_type": "code",
   "execution_count": 186,
   "metadata": {},
   "outputs": [
    {
     "data": {
      "text/html": [
       "<div>\n",
       "<style scoped>\n",
       "    .dataframe tbody tr th:only-of-type {\n",
       "        vertical-align: middle;\n",
       "    }\n",
       "\n",
       "    .dataframe tbody tr th {\n",
       "        vertical-align: top;\n",
       "    }\n",
       "\n",
       "    .dataframe thead th {\n",
       "        text-align: right;\n",
       "    }\n",
       "</style>\n",
       "<table border=\"1\" class=\"dataframe\">\n",
       "  <thead>\n",
       "    <tr style=\"text-align: right;\">\n",
       "      <th></th>\n",
       "      <th>Index 1</th>\n",
       "      <th>Index 2</th>\n",
       "      <th>Word 1</th>\n",
       "      <th>Word 2</th>\n",
       "      <th>Count</th>\n",
       "      <th>net count</th>\n",
       "      <th>p_w2_w1</th>\n",
       "    </tr>\n",
       "  </thead>\n",
       "  <tbody>\n",
       "    <tr>\n",
       "      <th>993</th>\n",
       "      <td>3</td>\n",
       "      <td>0</td>\n",
       "      <td>THE</td>\n",
       "      <td>&lt;UNK&gt;</td>\n",
       "      <td>2371132</td>\n",
       "      <td>3855375</td>\n",
       "      <td>0.615020</td>\n",
       "    </tr>\n",
       "    <tr>\n",
       "      <th>1058</th>\n",
       "      <td>3</td>\n",
       "      <td>69</td>\n",
       "      <td>THE</td>\n",
       "      <td>U.</td>\n",
       "      <td>51556</td>\n",
       "      <td>3855375</td>\n",
       "      <td>0.013372</td>\n",
       "    </tr>\n",
       "    <tr>\n",
       "      <th>1064</th>\n",
       "      <td>3</td>\n",
       "      <td>78</td>\n",
       "      <td>THE</td>\n",
       "      <td>FIRST</td>\n",
       "      <td>45186</td>\n",
       "      <td>3855375</td>\n",
       "      <td>0.011720</td>\n",
       "    </tr>\n",
       "    <tr>\n",
       "      <th>1060</th>\n",
       "      <td>3</td>\n",
       "      <td>72</td>\n",
       "      <td>THE</td>\n",
       "      <td>COMPANY</td>\n",
       "      <td>44949</td>\n",
       "      <td>3855375</td>\n",
       "      <td>0.011659</td>\n",
       "    </tr>\n",
       "    <tr>\n",
       "      <th>1050</th>\n",
       "      <td>3</td>\n",
       "      <td>60</td>\n",
       "      <td>THE</td>\n",
       "      <td>NEW</td>\n",
       "      <td>36439</td>\n",
       "      <td>3855375</td>\n",
       "      <td>0.009451</td>\n",
       "    </tr>\n",
       "    <tr>\n",
       "      <th>1165</th>\n",
       "      <td>3</td>\n",
       "      <td>183</td>\n",
       "      <td>THE</td>\n",
       "      <td>UNITED</td>\n",
       "      <td>33435</td>\n",
       "      <td>3855375</td>\n",
       "      <td>0.008672</td>\n",
       "    </tr>\n",
       "    <tr>\n",
       "      <th>1086</th>\n",
       "      <td>3</td>\n",
       "      <td>102</td>\n",
       "      <td>THE</td>\n",
       "      <td>GOVERNMENT</td>\n",
       "      <td>26230</td>\n",
       "      <td>3855375</td>\n",
       "      <td>0.006803</td>\n",
       "    </tr>\n",
       "    <tr>\n",
       "      <th>1029</th>\n",
       "      <td>3</td>\n",
       "      <td>38</td>\n",
       "      <td>THE</td>\n",
       "      <td>NINETEEN</td>\n",
       "      <td>25641</td>\n",
       "      <td>3855375</td>\n",
       "      <td>0.006651</td>\n",
       "    </tr>\n",
       "    <tr>\n",
       "      <th>1282</th>\n",
       "      <td>3</td>\n",
       "      <td>307</td>\n",
       "      <td>THE</td>\n",
       "      <td>SAME</td>\n",
       "      <td>24239</td>\n",
       "      <td>3855375</td>\n",
       "      <td>0.006287</td>\n",
       "    </tr>\n",
       "    <tr>\n",
       "      <th>1014</th>\n",
       "      <td>3</td>\n",
       "      <td>22</td>\n",
       "      <td>THE</td>\n",
       "      <td>TWO</td>\n",
       "      <td>23752</td>\n",
       "      <td>3855375</td>\n",
       "      <td>0.006161</td>\n",
       "    </tr>\n",
       "  </tbody>\n",
       "</table>\n",
       "</div>"
      ],
      "text/plain": [
       "      Index 1  Index 2 Word 1      Word 2    Count  net count   p_w2_w1\n",
       "993         3        0    THE       <UNK>  2371132    3855375  0.615020\n",
       "1058        3       69    THE          U.    51556    3855375  0.013372\n",
       "1064        3       78    THE       FIRST    45186    3855375  0.011720\n",
       "1060        3       72    THE     COMPANY    44949    3855375  0.011659\n",
       "1050        3       60    THE         NEW    36439    3855375  0.009451\n",
       "1165        3      183    THE      UNITED    33435    3855375  0.008672\n",
       "1086        3      102    THE  GOVERNMENT    26230    3855375  0.006803\n",
       "1029        3       38    THE    NINETEEN    25641    3855375  0.006651\n",
       "1282        3      307    THE        SAME    24239    3855375  0.006287\n",
       "1014        3       22    THE         TWO    23752    3855375  0.006161"
      ]
     },
     "execution_count": 186,
     "metadata": {},
     "output_type": "execute_result"
    }
   ],
   "source": [
    "df_bi['net count'] = df_bi.groupby('Index 1')['Count'].transform('sum')\n",
    "df_bi['p_w2_w1']=df_bi['Count']/df_bi['net count']\n",
    "df_bi[df_bi['Word 1'] == 'THE'].sort_values(by=['p_w2_w1'],ascending=False).head(10)"
   ]
  },
  {
   "cell_type": "code",
   "execution_count": 187,
   "metadata": {},
   "outputs": [],
   "source": [
    "def unigram_likelihood(sent,df_U):\n",
    "    sent_list=sent.split()\n",
    "    sent_list = [word.upper() for word in sent_list]\n",
    "\n",
    "    # Filter the DataFrame to include only words in sent_list\n",
    "    filtered_df = df_U[df_U['Word'].isin(sent_list)]\n",
    "\n",
    "    # Create a categorical type for ordering\n",
    "    filtered_df['Word'] = pd.Categorical(filtered_df['Word'], categories=sent_list, ordered=True)\n",
    "\n",
    "    # Sort the filtered DataFrame based on the ordered categorical 'Word'\n",
    "    sorted_filtered_df = filtered_df.sort_values('Word').reset_index(drop=True)\n",
    "    \n",
    "    print(sorted_filtered_df)\n",
    "    \n",
    "    prob_vec=sorted_filtered_df['prob'].values\n",
    "    \n",
    "    return prob_vec"
   ]
  },
  {
   "cell_type": "code",
   "execution_count": 188,
   "metadata": {},
   "outputs": [],
   "source": [
    "def bigram_likelihood(sent,df_B):\n",
    "    sent_list=sent.split()\n",
    "    sent_list = [word.upper() for word in sent_list]\n",
    "    sent_list.insert(0,'<s>')\n",
    "    \n",
    "    sent_list_prior = sent_list[:-1]  # Removes first element\n",
    "    sent_list_follow = sent_list[1:] # Removes last element\n",
    "    \n",
    "    #combined_mask = pd.Series([False] * len(df_B))\n",
    "    prob_vec = []\n",
    "    for i in list(range(len(sent_list)-1)):\n",
    "        current_mask = (df_B['Word 1'] == sent_list_prior[i]) & (df_B['Word 2'] == sent_list_follow[i])\n",
    "        print(df_B[current_mask].values)\n",
    "        if(not current_mask.any()):\n",
    "            prob_vec.append(1e-10)  # Probability smaller than smallest available in the training\n",
    "            continue   \n",
    "        #combined_mask = combined_mask | current_mask\n",
    "        prob_vec.append(df_B[current_mask]['p_w2_w1'].values[0])\n",
    " \n",
    "    return np.array(prob_vec)"
   ]
  },
  {
   "cell_type": "markdown",
   "metadata": {},
   "source": [
    "## Consider the sentence “The stock market fell by one hundred points last week”. Which model yields the highest log-likelihood?"
   ]
  },
  {
   "cell_type": "code",
   "execution_count": 189,
   "metadata": {},
   "outputs": [],
   "source": [
    "s1='The stock market fell by one hundred points last week'"
   ]
  },
  {
   "cell_type": "code",
   "execution_count": 190,
   "metadata": {},
   "outputs": [
    {
     "name": "stdout",
     "output_type": "stream",
     "text": [
      "      Word    Count      prob\n",
      "0      THE  3855375  0.047152\n",
      "1    STOCK    54645  0.000668\n",
      "2   MARKET    63807  0.000780\n",
      "3     FELL    21634  0.000265\n",
      "4       BY   341800  0.004180\n",
      "5      ONE   491054  0.006006\n",
      "6  HUNDRED   328791  0.004021\n",
      "7   POINTS    18060  0.000221\n",
      "8     LAST    94889  0.001161\n",
      "9     WEEK    46795  0.000572\n",
      "\n",
      "The unigram model log likelihood is -64.50944034364878\n"
     ]
    }
   ],
   "source": [
    "print('\\nThe unigram model log likelihood is',sum(np.log(unigram_likelihood(s1,df_uni))))"
   ]
  },
  {
   "cell_type": "code",
   "execution_count": 191,
   "metadata": {},
   "outputs": [
    {
     "name": "stdout",
     "output_type": "stream",
     "text": [
      "[[1 3 '<s>' 'THE' 479427 3021866 0.15865263383617936]]\n",
      "[[3 132 'THE' 'STOCK' 8982 3855375 0.0023297344616282465]]\n",
      "[[132 121 'STOCK' 'MARKET' 5648 54645 0.10335803824686614]]\n",
      "[[121 376 'MARKET' 'FELL' 135 63807 0.0021157553246509003]]\n",
      "[[376 25 'FELL' 'BY' 467 21634 0.021586391790699825]]\n",
      "[[25 16 'BY' 'ONE' 2795 341800 0.008177296664716208]]\n",
      "[[16 26 'ONE' 'HUNDRED' 102660 491054 0.2090605106566691]]\n",
      "[[26 439 'HUNDRED' 'POINTS' 200 328791 0.0006082891563333546]]\n",
      "[[439 88 'POINTS' 'LAST' 103 18060 0.005703211517165006]]\n",
      "[[88 155 'LAST' 'WEEK' 15554 94889 0.1639178408456196]]\n",
      "\n",
      "The bigram model log likelihood is -40.91813213378977\n"
     ]
    }
   ],
   "source": [
    "print('\\nThe bigram model log likelihood is',sum(np.log(bigram_likelihood(s1,df_bi))))"
   ]
  },
  {
   "cell_type": "markdown",
   "metadata": {},
   "source": [
    "In this case, the bigram model yields the highest log-likelihood"
   ]
  },
  {
   "cell_type": "markdown",
   "metadata": {},
   "source": [
    "## Consider the sentence “The sixteen officials sold fire insurance”. Which pairs of adjacent words in this sentence are not observed in the training corpus? What effect does this have on the log-likelihood from the bigram model?"
   ]
  },
  {
   "cell_type": "code",
   "execution_count": 192,
   "metadata": {},
   "outputs": [],
   "source": [
    "s2='The sixteen officials sold fire insurance'"
   ]
  },
  {
   "cell_type": "code",
   "execution_count": 193,
   "metadata": {},
   "outputs": [
    {
     "name": "stdout",
     "output_type": "stream",
     "text": [
      "        Word    Count      prob\n",
      "0        THE  3855375  0.047152\n",
      "1    SIXTEEN    16540  0.000202\n",
      "2  OFFICIALS    54572  0.000667\n",
      "3       SOLD    16573  0.000203\n",
      "4       FIRE    17691  0.000216\n",
      "5  INSURANCE    17019  0.000208\n",
      "\n",
      "The unigram model log likelihood is -44.291934473132606\n"
     ]
    }
   ],
   "source": [
    "print('\\nThe unigram model log likelihood is',sum(np.log(unigram_likelihood(s2,df_uni))))"
   ]
  },
  {
   "cell_type": "code",
   "execution_count": 194,
   "metadata": {},
   "outputs": [
    {
     "name": "stdout",
     "output_type": "stream",
     "text": [
      "[[1 3 '<s>' 'THE' 479427 3021866 0.15865263383617936]]\n",
      "[[3 498 'THE' 'SIXTEEN' 881 3855375 0.0002285121421392212]]\n",
      "[]\n",
      "[[133 499 'OFFICIALS' 'SOLD' 5 54572 9.162207725573554e-05]]\n",
      "[]\n",
      "[[443 488 'FIRE' 'INSURANCE' 54 17691 0.003052399525182296]]\n",
      "\n",
      "The bigram model log likelihood is -71.36632679534989\n"
     ]
    }
   ],
   "source": [
    "print('\\nThe bigram model log likelihood is',sum(np.log(bigram_likelihood(s2,df_bi))))"
   ]
  },
  {
   "cell_type": "markdown",
   "metadata": {},
   "source": [
    "The pairs {'SIXTEEN','OFFICIALS'} and {'SOLD','FIRE'} are not present in the database. Since these pairs are not observed in the training corpus, ideally 0 probability must be assigned, but it leads to $-\\infty$ likelihood. To avoid that, a very small probability of $10^{-10}$ is assigned to each pair. Since these two pairs are not observed, the bigram model assigs very less log likelihood to the sentence as compared to the unigram model."
   ]
  },
  {
   "cell_type": "markdown",
   "metadata": {},
   "source": [
    "## Mixture model\n",
    "Consider the so-called mixture model that predicts words from a weighted interpolation of the unigram\n",
    "and bigram models: $$P_m(w′|w) = \\lambda P_u(w′) + (1 − \\lambda)P_b(w′|w)$$ where $\\lambda \\in [0, 1]$. Compute and plot the value of the log-likelihood as a function of the parameter $\\lambda \\in [0, 1]$. From your results, deduce the optimal value of λ to two significant digits"
   ]
  },
  {
   "cell_type": "code",
   "execution_count": 195,
   "metadata": {},
   "outputs": [],
   "source": [
    "def mixture_likelihood(sent,df_U,df_B):\n",
    "    \n",
    "    prob_vec_uni= unigram_likelihood(sent,df_U)\n",
    "    \n",
    "    print('\\n')\n",
    "    \n",
    "    prob_vec_bi = bigram_likelihood(sent,df_B)\n",
    "    \n",
    "    print('\\n')\n",
    "    \n",
    "    prob_mix = []\n",
    "    \n",
    "    lam_vec = np.linspace(0,1,101)\n",
    "    \n",
    "    for lam in lam_vec :\n",
    "        prob_vec_mix = lam*prob_vec_uni+(1-lam)*prob_vec_bi\n",
    "        prob_mix.append(sum(np.log(prob_vec_mix)))\n",
    "  \n",
    "    plt.plot(lam_vec,np.transpose(prob_mix))\n",
    "    plt.title('Log likelihood of mixture model as a function of $\\lambda$')  # Title of the plot\n",
    "    plt.xlabel('$\\lambda$')  # Label for x-axis\n",
    "    plt.ylabel('log-likelihood')  # Label for y-axis\n",
    "    plt.grid()  # Show grid\n",
    "    plt.show()  # Display the plot\n",
    "    \n",
    "    max_ind=np.argmax(prob_mix)\n",
    "    max_lam=lam_vec[max_ind]\n",
    "        \n",
    "    print('The maximum log likelihood for mixture model is',prob_mix[max_ind],', happens at \\u03BB =',max_lam)"
   ]
  },
  {
   "cell_type": "code",
   "execution_count": 196,
   "metadata": {},
   "outputs": [
    {
     "name": "stdout",
     "output_type": "stream",
     "text": [
      "        Word    Count      prob\n",
      "0        THE  3855375  0.047152\n",
      "1    SIXTEEN    16540  0.000202\n",
      "2  OFFICIALS    54572  0.000667\n",
      "3       SOLD    16573  0.000203\n",
      "4       FIRE    17691  0.000216\n",
      "5  INSURANCE    17019  0.000208\n",
      "\n",
      "\n",
      "[[1 3 '<s>' 'THE' 479427 3021866 0.15865263383617936]]\n",
      "[[3 498 'THE' 'SIXTEEN' 881 3855375 0.0002285121421392212]]\n",
      "[]\n",
      "[[133 499 'OFFICIALS' 'SOLD' 5 54572 9.162207725573554e-05]]\n",
      "[]\n",
      "[[443 488 'FIRE' 'INSURANCE' 54 17691 0.003052399525182296]]\n",
      "\n",
      "\n"
     ]
    },
    {
     "data": {
      "image/png": "[encoded data removed]",
      "text/plain": [
       "<Figure size 432x288 with 1 Axes>"
      ]
     },
     "metadata": {
      "needs_background": "light"
     },
     "output_type": "display_data"
    },
    {
     "name": "stdout",
     "output_type": "stream",
     "text": [
      "The maximum log likelihood for mixture model is -42.96416395341745 , happens at λ = 0.65\n"
     ]
    }
   ],
   "source": [
    "mixture_likelihood(s2,df_uni,df_bi)"
   ]
  }
 ],
 "metadata": {
  "kernelspec": {
   "display_name": "Python 3",
   "language": "python",
   "name": "python3"
  },
  "language_info": {
   "codemirror_mode": {
    "name": "ipython",
    "version": 3
   },
   "file_extension": ".py",
   "mimetype": "text/x-python",
   "name": "python",
   "nbconvert_exporter": "python",
   "pygments_lexer": "ipython3",
   "version": "3.6.8"
  }
 },
 "nbformat": 4,
 "nbformat_minor": 4
}
